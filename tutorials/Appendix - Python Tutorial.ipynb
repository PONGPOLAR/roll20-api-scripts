{
  "cells": [
    {
      "cell_type": "markdown",
      "metadata": {
        "id": "view-in-github",
        "colab_type": "text"
      },
      "source": [
        "<a href=\"https://colab.research.google.com/github/PONGPOLAR/roll20-api-scripts/blob/master/tutorials/Appendix%20-%20Python%20Tutorial.ipynb\" target=\"_parent\"><img src=\"https://colab.research.google.com/assets/colab-badge.svg\" alt=\"Open In Colab\"/></a>"
      ]
    },
    {
      "cell_type": "markdown",
      "metadata": {
        "id": "d52EQ8iEERAh"
      },
      "source": [
        "# Appendix: Python Tutorial\n",
        "\n",
        "This optional tutorial demonstrates the features of the Python language and of Jupyter Notebook that are used in the examples and tutorials of the textbook. Special attention is given to the most important data types used in data analysis workflows, as well as common idioms and patterns employed in these use-cases. This appendix may be especially useful for readers more experienced in programming languages other than Python.\n",
        "\n",
        "Contents:\n",
        "\n",
        "1. [Jupyter Notebook](#1.-Jupyter-Notebook)\n",
        "2. [Conditionals](#2.-Conditionals)\n",
        "3. [Lists](#3.-Lists)\n",
        "4. [Loops](#4.-Loops)\n",
        "5. [Tuples](#5.-Tuples)\n",
        "6. [Dictionaries](#6.-Dictionaries)\n",
        "7. [Combining Data Types](#7.-Combining-Data-Types)"
      ]
    },
    {
      "cell_type": "markdown",
      "metadata": {
        "id": "smXScX_oERAj"
      },
      "source": [
        "# 1. Jupyter Notebook\n",
        "\n",
        "Even if you're well-versed in Python, you may not have used Jupyter Notebook before. The main idea is that we can mix text and code, and that code is executed in \"cells.\" By clicking on a cell and pressing Shift + Enter, you execute the cell and move to the next cell. Ctrl + Enter executes the cell but does not move to the next cell. You can run many cells at once by using the different options in the \"Cell\" menu.\n",
        "\n",
        "Try executing the code in the next cell and observe that the output is printed below the cell."
      ]
    },
    {
      "cell_type": "code",
      "execution_count": null,
      "metadata": {
        "id": "GrGgLTOoERAk",
        "outputId": "968ea3c7-0ea7-4e03-f5cd-bccde8a9f407"
      },
      "outputs": [
        {
          "name": "stdout",
          "output_type": "stream",
          "text": [
            "Hello from Jupyter\n"
          ]
        }
      ],
      "source": [
        "print('Hello from Jupyter')"
      ]
    },
    {
      "cell_type": "markdown",
      "metadata": {
        "id": "2YvO1OkuERAl"
      },
      "source": [
        "## 1.1 Printing and inspecting variables\n",
        "\n",
        "In Jupyter notebooks, we have two different ways of inspecting variables. Python's `print()` function is useful as always:"
      ]
    },
    {
      "cell_type": "code",
      "execution_count": null,
      "metadata": {
        "id": "WAizgbX2ERAl",
        "outputId": "98828f08-f00f-4195-f6ff-87a0049e366b"
      },
      "outputs": [
        {
          "name": "stdout",
          "output_type": "stream",
          "text": [
            "Hello\n",
            "16\n"
          ]
        }
      ],
      "source": [
        "my_str = 'Hello'\n",
        "my_int = 16\n",
        "\n",
        "print(my_str)\n",
        "print(my_int)"
      ]
    },
    {
      "cell_type": "markdown",
      "metadata": {
        "id": "Km7SQn4AERAm"
      },
      "source": [
        "We can also just execute a cell with the name of a variable:"
      ]
    },
    {
      "cell_type": "code",
      "execution_count": null,
      "metadata": {
        "id": "VemkYmAgERAm",
        "outputId": "4baa619d-845a-493d-bc40-f93b11744be1"
      },
      "outputs": [
        {
          "data": {
            "text/plain": [
              "'Hello'"
            ]
          },
          "execution_count": 3,
          "metadata": {},
          "output_type": "execute_result"
        }
      ],
      "source": [
        "my_str"
      ]
    },
    {
      "cell_type": "markdown",
      "metadata": {
        "id": "b5nAzNyEERAm"
      },
      "source": [
        "The big difference here between the two approaches is that `print()` statements can output multiple items per cell, while the latter approach will only display the last variable named. Observe:"
      ]
    },
    {
      "cell_type": "code",
      "execution_count": null,
      "metadata": {
        "id": "13pWtKYSERAn",
        "outputId": "a74feb7e-c43e-4fcb-93bc-02e2cb1c023a"
      },
      "outputs": [
        {
          "data": {
            "text/plain": [
              "16"
            ]
          },
          "execution_count": 4,
          "metadata": {},
          "output_type": "execute_result"
        }
      ],
      "source": [
        "my_str\n",
        "my_int"
      ]
    },
    {
      "cell_type": "markdown",
      "metadata": {
        "id": "Ep8MjD_EERAn"
      },
      "source": [
        "As opposed to the first example using `print()`, this only outputs the last value."
      ]
    },
    {
      "cell_type": "markdown",
      "metadata": {
        "id": "eDvAtgfeERAn"
      },
      "source": [
        "## Nota Bene\n",
        "One key advantage of presenting information in this notebook format is that it allows you to change and re-run the code cells, then see how the output differs. Don't be afraid to experiment!"
      ]
    },
    {
      "cell_type": "markdown",
      "metadata": {
        "id": "kKrfEuorERAo"
      },
      "source": [
        "# 2. Conditionals\n",
        "\n",
        "\"Conditionals\" is a fancy word for if-statements. If you've ever done any programming, you are surely aware of the if-then-else construction. In Python it's done as follows:"
      ]
    },
    {
      "cell_type": "code",
      "execution_count": null,
      "metadata": {
        "id": "VTmpZXTbERAo",
        "outputId": "9f85a605-5d31-4692-e96e-3c27d97d36d0"
      },
      "outputs": [
        {
          "name": "stdout",
          "output_type": "stream",
          "text": [
            "You have many apples!\n"
          ]
        }
      ],
      "source": [
        "number_of_apples = 5\n",
        "\n",
        "if number_of_apples < 1:\n",
        "    print('You have no apples')\n",
        "elif number_of_apples == 1:\n",
        "    print('You have one apple')\n",
        "elif number_of_apples < 4:\n",
        "    print('You have a few apples')\n",
        "else:\n",
        "    print('You have many apples!')"
      ]
    },
    {
      "cell_type": "markdown",
      "metadata": {
        "id": "6Q6Fi5WZERAo"
      },
      "source": [
        "You can change `number_of_apples` and re-run the previous cell in order to get the different possible outputs.\n"
      ]
    },
    {
      "cell_type": "markdown",
      "metadata": {
        "id": "er4o808jERAp"
      },
      "source": [
        "# 3. Lists\n",
        "\n",
        "One of Python's most versatile and ubiquitous data types is the List ([Python documentation](https://docs.python.org/3/library/stdtypes.html#list)). This is an **ordered**, **mutable**, **collection** of **non-unique** items.\n",
        "\n",
        "## 3.1 Ordered\n",
        "\n",
        "By *ordered*, we mean that the items are addressed by their *index* in the collection:"
      ]
    },
    {
      "cell_type": "code",
      "execution_count": null,
      "metadata": {
        "id": "1WS5n7IfERAp",
        "outputId": "b94202eb-263e-4276-8670-465eb31d54ab"
      },
      "outputs": [
        {
          "data": {
            "text/plain": [
              "'Bob'"
            ]
          },
          "execution_count": 6,
          "metadata": {},
          "output_type": "execute_result"
        }
      ],
      "source": [
        "student_names = ['Alice', 'Bob', 'Carol', 'Dave']\n",
        "student_names[1]"
      ]
    },
    {
      "cell_type": "markdown",
      "metadata": {
        "id": "AvR0viMsERAp"
      },
      "source": [
        "Indices in Python start at zero, so the head of the list has index 0:"
      ]
    },
    {
      "cell_type": "code",
      "execution_count": null,
      "metadata": {
        "scrolled": true,
        "id": "PUYEpiG-ERAq",
        "outputId": "7b6adf3d-f5e6-4837-fdb4-90600860f388"
      },
      "outputs": [
        {
          "data": {
            "text/plain": [
              "'Alice'"
            ]
          },
          "execution_count": 7,
          "metadata": {},
          "output_type": "execute_result"
        }
      ],
      "source": [
        "student_names[0]"
      ]
    },
    {
      "cell_type": "markdown",
      "metadata": {
        "id": "wmonCNwkERAq"
      },
      "source": [
        "We can get the last item in a list by using negative indexing:"
      ]
    },
    {
      "cell_type": "code",
      "execution_count": null,
      "metadata": {
        "id": "oVJvUGydERAq",
        "outputId": "6b743f55-5669-465b-9872-3d2027293281"
      },
      "outputs": [
        {
          "data": {
            "text/plain": [
              "'Dave'"
            ]
          },
          "execution_count": 8,
          "metadata": {},
          "output_type": "execute_result"
        }
      ],
      "source": [
        "student_names[-1]"
      ]
    },
    {
      "cell_type": "markdown",
      "metadata": {
        "id": "mMQ1nDxIERAr"
      },
      "source": [
        "Lists can also be *sliced* to get a subset of the list items:"
      ]
    },
    {
      "cell_type": "code",
      "execution_count": null,
      "metadata": {
        "id": "Fv_C6vzhERAr",
        "outputId": "a7b79f7b-438e-409c-805a-b97d2d9a4800"
      },
      "outputs": [
        {
          "data": {
            "text/plain": [
              "['Alice', 'Bob']"
            ]
          },
          "execution_count": 9,
          "metadata": {},
          "output_type": "execute_result"
        }
      ],
      "source": [
        "student_names[0:2]"
      ]
    },
    {
      "cell_type": "code",
      "execution_count": null,
      "metadata": {
        "id": "CfmtWydqERAs",
        "outputId": "7108d690-8371-42cf-92f7-fa72228844c3"
      },
      "outputs": [
        {
          "data": {
            "text/plain": [
              "['Bob', 'Carol']"
            ]
          },
          "execution_count": 10,
          "metadata": {},
          "output_type": "execute_result"
        }
      ],
      "source": [
        "student_names[1:3]"
      ]
    },
    {
      "cell_type": "markdown",
      "metadata": {
        "id": "r-byMOJ_ERAs"
      },
      "source": [
        "When slicing from the beginning of the list, or to the end of the list, we can leave out the index:"
      ]
    },
    {
      "cell_type": "code",
      "execution_count": null,
      "metadata": {
        "id": "27y4fvCGERAs",
        "outputId": "64c95a52-f3b2-4150-942b-d71ccd7c9e2d"
      },
      "outputs": [
        {
          "data": {
            "text/plain": [
              "['Alice', 'Bob']"
            ]
          },
          "execution_count": 11,
          "metadata": {},
          "output_type": "execute_result"
        }
      ],
      "source": [
        "student_names[:2]"
      ]
    },
    {
      "cell_type": "code",
      "execution_count": null,
      "metadata": {
        "id": "tbuf0IorERAs",
        "outputId": "72e6ac10-7699-49d0-8895-cb0a4a63443b"
      },
      "outputs": [
        {
          "data": {
            "text/plain": [
              "['Carol', 'Dave']"
            ]
          },
          "execution_count": 12,
          "metadata": {},
          "output_type": "execute_result"
        }
      ],
      "source": [
        "student_names[2:]"
      ]
    },
    {
      "cell_type": "markdown",
      "metadata": {
        "id": "IztOjR74ERAt"
      },
      "source": [
        "## 3.2 Mutable\n",
        "\n",
        "By *mutable*, we mean that the list can be changed by adding or removing items. We most often add items to the end of the list with `.append()`:"
      ]
    },
    {
      "cell_type": "code",
      "execution_count": null,
      "metadata": {
        "id": "Be-DGErtERAt",
        "outputId": "138706e8-1d88-4dd8-a0a3-11bfe511f079"
      },
      "outputs": [
        {
          "data": {
            "text/plain": [
              "['Alice', 'Bob', 'Carol', 'Dave', 'Esther']"
            ]
          },
          "execution_count": 13,
          "metadata": {},
          "output_type": "execute_result"
        }
      ],
      "source": [
        "student_names.append('Esther')\n",
        "student_names"
      ]
    },
    {
      "cell_type": "markdown",
      "metadata": {
        "id": "HxG_8IGeERAt"
      },
      "source": [
        "But we can also add items at any arbitrary index with `.insert()`:"
      ]
    },
    {
      "cell_type": "code",
      "execution_count": null,
      "metadata": {
        "id": "hRu8ZzXOERAt",
        "outputId": "4c618640-a8f4-422a-c0bb-bc3ee01af1fd"
      },
      "outputs": [
        {
          "data": {
            "text/plain": [
              "['Alice', 'Bob', 'Xavier', 'Carol', 'Dave', 'Esther']"
            ]
          },
          "execution_count": 14,
          "metadata": {},
          "output_type": "execute_result"
        }
      ],
      "source": [
        "student_names.insert(2, 'Xavier')\n",
        "student_names"
      ]
    },
    {
      "cell_type": "markdown",
      "metadata": {
        "id": "6QnJcyRaERAu"
      },
      "source": [
        "We can delete items with the `del` keyword:"
      ]
    },
    {
      "cell_type": "code",
      "execution_count": null,
      "metadata": {
        "id": "u5rOVdxwERAu",
        "outputId": "5ae9a183-70eb-4679-8a5c-3efe005c4fc6"
      },
      "outputs": [
        {
          "data": {
            "text/plain": [
              "['Alice', 'Bob', 'Carol', 'Dave', 'Esther']"
            ]
          },
          "execution_count": 15,
          "metadata": {},
          "output_type": "execute_result"
        }
      ],
      "source": [
        "del student_names[2]\n",
        "student_names"
      ]
    },
    {
      "cell_type": "markdown",
      "metadata": {
        "id": "eo3qc_SUERAu"
      },
      "source": [
        "## 3.3 Non-unique\n",
        "\n",
        "Note that nothing stops us from repeatedly adding the same name to this list:"
      ]
    },
    {
      "cell_type": "code",
      "execution_count": null,
      "metadata": {
        "id": "FDVXh2VaERAu",
        "outputId": "4673b6e9-ff55-4322-bc27-16d9113a1ec9"
      },
      "outputs": [
        {
          "data": {
            "text/plain": [
              "['Alice', 'Bob', 'Carol', 'Dave', 'Esther', 'Esther', 'Esther']"
            ]
          },
          "execution_count": 16,
          "metadata": {},
          "output_type": "execute_result"
        }
      ],
      "source": [
        "student_names.append('Esther')\n",
        "student_names.append('Esther')\n",
        "student_names"
      ]
    },
    {
      "cell_type": "markdown",
      "metadata": {
        "id": "qoLDgyDjERAv"
      },
      "source": [
        "If you want a collection where uniqueness is enforced, you should look towards\n",
        "[sets](https://docs.python.org/3/library/stdtypes.html#set)\n",
        "or\n",
        "[dictionaries](https://docs.python.org/3/library/stdtypes.html#dict).\n",
        "\n",
        "## 3.4 Collection\n",
        "\n",
        "A collection refers to a data type consisting of more than one values. Lists are one type of collection, but there are others such as tuples, sets, and dictionaries.\n",
        "\n",
        "When naming your variables that contain lists, you should use plural nouns, *e.g.* `student_names` in the previous example. In contrast, single values should be named with singular nouns, *e.g.* `my_str` in the first section. This helps you and others reading your code keep straight which variables are collections and which are single items, and also helps when writing loops as shown in the next section."
      ]
    },
    {
      "cell_type": "markdown",
      "metadata": {
        "id": "Bd_j_bUTERAv"
      },
      "source": [
        "# 4. Loops\n",
        "\n",
        "If you're coming from another programming language, you're probably aware of more than one type of loop. In Python, we focus on one type of loop in particular: the for-loop. The for-loop iterates through a collection of items, executing its code for each item:"
      ]
    },
    {
      "cell_type": "code",
      "execution_count": null,
      "metadata": {
        "id": "9yXMN6Z_ERAv",
        "outputId": "8422c422-174e-4877-8675-ea87c458fbe4"
      },
      "outputs": [
        {
          "name": "stdout",
          "output_type": "stream",
          "text": [
            "Hello Alice!\n",
            "Hello Bob!\n",
            "Hello Carol!\n",
            "Hello Dave!\n"
          ]
        }
      ],
      "source": [
        "student_names = ['Alice', 'Bob', 'Carol', 'Dave']\n",
        "\n",
        "for student_name in student_names:\n",
        "    print('Hello ' + student_name + '!')"
      ]
    },
    {
      "cell_type": "markdown",
      "metadata": {
        "id": "c_K1cXhGERAw"
      },
      "source": [
        "## 4.1 Naming conventions\n",
        "\n",
        "Note the naming convention being used in the for-in construction:\n",
        "\n",
        "    for student_name in student_names:\n",
        "    \n",
        "By using a plural noun for the collection `student_names`, we automatically have good name for the individual items in the collection: `student_name`. The tutorials in this book use this naming convention when possible as it makes clear to the reader which variable is the \"loop variable\" that changes value between iterations of the loop body."
      ]
    },
    {
      "cell_type": "markdown",
      "metadata": {
        "id": "NwEixP-uERAw"
      },
      "source": [
        "## 4.2 Loops, lists, and conditionals\n",
        "\n",
        "One extremely common type of task when working with data is the *filtering task*. In abstract, this task involves looping over one collection, checking each item for some criterion, then adding items that meet the criterion to another collection.\n",
        "\n",
        "In the following example, we'll create a list of just the \"long\" names from the `student_names` list. Long names are those that contain more than four characters. You will often see and write code that looks like the following in this book's tutorials:"
      ]
    },
    {
      "cell_type": "code",
      "execution_count": null,
      "metadata": {
        "id": "3S0epVDSERAx",
        "outputId": "7c5b36c4-ad4a-4f78-f4be-5030ad179109"
      },
      "outputs": [
        {
          "data": {
            "text/plain": [
              "['Alice', 'Carol']"
            ]
          },
          "execution_count": 18,
          "metadata": {},
          "output_type": "execute_result"
        }
      ],
      "source": [
        "# Initialize an empty list and add to it the\n",
        "# student names containing more than four characters\n",
        "long_names = []\n",
        "for student_name in student_names:\n",
        "    # This is our criterion\n",
        "    if len(student_name) > 4:\n",
        "        long_names.append(student_name)\n",
        "\n",
        "long_names"
      ]
    },
    {
      "cell_type": "markdown",
      "metadata": {
        "id": "9hzz_pWrERAy"
      },
      "source": [
        "## 4.3 Nested loops\n",
        "\n",
        "Loops can be \"nested\" inside one another. This often occurs when we want to match up items from one collection to items from the same or another collection. Here let's create a list of all possible pairs of students:"
      ]
    },
    {
      "cell_type": "code",
      "execution_count": null,
      "metadata": {
        "id": "HQy2NV8nERAy",
        "outputId": "fbb42ec1-a43a-4f85-b3d9-fd7bc06da43f"
      },
      "outputs": [
        {
          "data": {
            "text/plain": [
              "[('Alice', 'Alice'),\n",
              " ('Alice', 'Bob'),\n",
              " ('Alice', 'Carol'),\n",
              " ('Alice', 'Dave'),\n",
              " ('Bob', 'Alice'),\n",
              " ('Bob', 'Bob'),\n",
              " ('Bob', 'Carol'),\n",
              " ('Bob', 'Dave'),\n",
              " ('Carol', 'Alice'),\n",
              " ('Carol', 'Bob'),\n",
              " ('Carol', 'Carol'),\n",
              " ('Carol', 'Dave'),\n",
              " ('Dave', 'Alice'),\n",
              " ('Dave', 'Bob'),\n",
              " ('Dave', 'Carol'),\n",
              " ('Dave', 'Dave')]"
            ]
          },
          "execution_count": 19,
          "metadata": {},
          "output_type": "execute_result"
        }
      ],
      "source": [
        "student_names = ['Alice', 'Bob', 'Carol', 'Dave']\n",
        "\n",
        "student_pairs = []\n",
        "for student_name_0 in student_names:\n",
        "    for student_name_1 in student_names:\n",
        "        student_pairs.append(\n",
        "            (student_name_0, student_name_1)\n",
        "        )\n",
        "\n",
        "student_pairs"
      ]
    },
    {
      "cell_type": "markdown",
      "metadata": {
        "id": "snZ4GWxXERAy"
      },
      "source": [
        "Note here that instead of just adding names to the `student_pairs` list, we are adding *tuples* `(student_name, language)`. This means each item in the list is a 2-tuple:"
      ]
    },
    {
      "cell_type": "code",
      "execution_count": null,
      "metadata": {
        "id": "D1WbAtHMERAz",
        "outputId": "46043c69-e674-4e37-88e6-aa8f1513c7eb"
      },
      "outputs": [
        {
          "data": {
            "text/plain": [
              "('Alice', 'Alice')"
            ]
          },
          "execution_count": 20,
          "metadata": {},
          "output_type": "execute_result"
        }
      ],
      "source": [
        "student_pairs[0]"
      ]
    },
    {
      "cell_type": "markdown",
      "metadata": {
        "id": "ftFl5BLoERAz"
      },
      "source": [
        "We'll talk more about tuples in the next section. The second thing to notice is that we're including pairs with two of the same student. Suppose we wish to exclude those. We can accomplish this by adding an if-statement in the second for-loop to *filter* out those repeats:"
      ]
    },
    {
      "cell_type": "code",
      "execution_count": null,
      "metadata": {
        "id": "KSDTZWjmERAz",
        "outputId": "3ed4fd2e-08c5-43b0-b12f-685d6a1985f0"
      },
      "outputs": [
        {
          "data": {
            "text/plain": [
              "[('Alice', 'Bob'),\n",
              " ('Alice', 'Carol'),\n",
              " ('Alice', 'Dave'),\n",
              " ('Bob', 'Alice'),\n",
              " ('Bob', 'Carol'),\n",
              " ('Bob', 'Dave'),\n",
              " ('Carol', 'Alice'),\n",
              " ('Carol', 'Bob'),\n",
              " ('Carol', 'Dave'),\n",
              " ('Dave', 'Alice'),\n",
              " ('Dave', 'Bob'),\n",
              " ('Dave', 'Carol')]"
            ]
          },
          "execution_count": 21,
          "metadata": {},
          "output_type": "execute_result"
        }
      ],
      "source": [
        "student_names = ['Alice', 'Bob', 'Carol', 'Dave']\n",
        "\n",
        "student_pairs = []\n",
        "for student_name_0 in student_names:\n",
        "    for student_name_1 in student_names:\n",
        "        # This is the criterion we added\n",
        "        if student_name_0 != student_name_1:\n",
        "            student_pairs.append(\n",
        "                (student_name_0, student_name_1)\n",
        "            )\n",
        "\n",
        "student_pairs"
      ]
    },
    {
      "cell_type": "markdown",
      "metadata": {
        "id": "_7oCeMhiERAz"
      },
      "source": [
        "And now the list has no repeats."
      ]
    },
    {
      "cell_type": "markdown",
      "metadata": {
        "id": "PNqrgXUKERA0"
      },
      "source": [
        "# 5. Tuples\n",
        "\n",
        "Even experienced Python users often are confused about the difference between tuples and lists, so definitely read this short section even if you have some experience.\n",
        "\n",
        "Tuples ([documentation](https://docs.python.org/3/library/stdtypes.html#tuple)) are superficially similar to lists as they are an ordered collection of non-unique items:"
      ]
    },
    {
      "cell_type": "code",
      "execution_count": null,
      "metadata": {
        "id": "eZdD3fInERA0",
        "outputId": "7e4ae64f-8bdb-4a99-b6b2-f34f242af553"
      },
      "outputs": [
        {
          "data": {
            "text/plain": [
              "('Alice', 'Spanish', 'A-')"
            ]
          },
          "execution_count": 22,
          "metadata": {},
          "output_type": "execute_result"
        }
      ],
      "source": [
        "student_grade = ('Alice', 'Spanish', 'A-')\n",
        "student_grade"
      ]
    },
    {
      "cell_type": "code",
      "execution_count": null,
      "metadata": {
        "id": "DJeqLWz-ERA0",
        "outputId": "fbf166e4-f1cd-49b8-d3d7-362f86813309"
      },
      "outputs": [
        {
          "data": {
            "text/plain": [
              "'Alice'"
            ]
          },
          "execution_count": 23,
          "metadata": {},
          "output_type": "execute_result"
        }
      ],
      "source": [
        "student_grade[0]"
      ]
    },
    {
      "cell_type": "markdown",
      "metadata": {
        "id": "Rb8AirC1ERA1"
      },
      "source": [
        "## 5.1 Immutable\n",
        "\n",
        "The big difference from lists is that tuples are **immutable**. Each of the following cells should raise an exception."
      ]
    },
    {
      "cell_type": "code",
      "execution_count": null,
      "metadata": {
        "tags": [
          "raises-exception"
        ],
        "id": "Ba-JQA6WERA1",
        "outputId": "c60d38ff-8efb-415a-cac9-c9aa729c998d"
      },
      "outputs": [
        {
          "ename": "AttributeError",
          "evalue": "'tuple' object has no attribute 'append'",
          "output_type": "error",
          "traceback": [
            "\u001b[0;31m---------------------------------------------------------------------------\u001b[0m",
            "\u001b[0;31mAttributeError\u001b[0m                            Traceback (most recent call last)",
            "\u001b[0;32m<ipython-input-24-782d93a0b0cf>\u001b[0m in \u001b[0;36m<module>\u001b[0;34m()\u001b[0m\n\u001b[0;32m----> 1\u001b[0;31m \u001b[0mstudent_grade\u001b[0m\u001b[0;34m.\u001b[0m\u001b[0mappend\u001b[0m\u001b[0;34m(\u001b[0m\u001b[0;34m'IU Bloomington'\u001b[0m\u001b[0;34m)\u001b[0m\u001b[0;34m\u001b[0m\u001b[0;34m\u001b[0m\u001b[0m\n\u001b[0m",
            "\u001b[0;31mAttributeError\u001b[0m: 'tuple' object has no attribute 'append'"
          ]
        }
      ],
      "source": [
        "student_grade.append('IU Bloomington')"
      ]
    },
    {
      "cell_type": "code",
      "execution_count": null,
      "metadata": {
        "tags": [
          "raises-exception"
        ],
        "id": "w39OaJ_mERA1",
        "outputId": "2787df96-7a18-42f3-ea9e-04527d471d47"
      },
      "outputs": [
        {
          "ename": "TypeError",
          "evalue": "'tuple' object doesn't support item deletion",
          "output_type": "error",
          "traceback": [
            "\u001b[0;31m---------------------------------------------------------------------------\u001b[0m",
            "\u001b[0;31mTypeError\u001b[0m                                 Traceback (most recent call last)",
            "\u001b[0;32m<ipython-input-25-f8ded3b186ff>\u001b[0m in \u001b[0;36m<module>\u001b[0;34m()\u001b[0m\n\u001b[0;32m----> 1\u001b[0;31m \u001b[0;32mdel\u001b[0m \u001b[0mstudent_grade\u001b[0m\u001b[0;34m[\u001b[0m\u001b[0;36m2\u001b[0m\u001b[0;34m]\u001b[0m\u001b[0;34m\u001b[0m\u001b[0;34m\u001b[0m\u001b[0m\n\u001b[0m",
            "\u001b[0;31mTypeError\u001b[0m: 'tuple' object doesn't support item deletion"
          ]
        }
      ],
      "source": [
        "del student_grade[2]"
      ]
    },
    {
      "cell_type": "code",
      "execution_count": null,
      "metadata": {
        "tags": [
          "raises-exception"
        ],
        "id": "cC6DzOFPERA2",
        "outputId": "e99ed75d-f341-444b-a4da-4ee67b898257"
      },
      "outputs": [
        {
          "ename": "TypeError",
          "evalue": "'tuple' object does not support item assignment",
          "output_type": "error",
          "traceback": [
            "\u001b[0;31m---------------------------------------------------------------------------\u001b[0m",
            "\u001b[0;31mTypeError\u001b[0m                                 Traceback (most recent call last)",
            "\u001b[0;32m<ipython-input-26-c9fd9c464431>\u001b[0m in \u001b[0;36m<module>\u001b[0;34m()\u001b[0m\n\u001b[0;32m----> 1\u001b[0;31m \u001b[0mstudent_grade\u001b[0m\u001b[0;34m[\u001b[0m\u001b[0;36m2\u001b[0m\u001b[0;34m]\u001b[0m \u001b[0;34m=\u001b[0m \u001b[0;34m'C'\u001b[0m\u001b[0;34m\u001b[0m\u001b[0;34m\u001b[0m\u001b[0m\n\u001b[0m",
            "\u001b[0;31mTypeError\u001b[0m: 'tuple' object does not support item assignment"
          ]
        }
      ],
      "source": [
        "student_grade[2] = 'C'"
      ]
    },
    {
      "cell_type": "markdown",
      "metadata": {
        "id": "hkwjUse_ERA2"
      },
      "source": [
        "This immutability makes tuples useful when **index matters**. In this example, the index matters semantically: index 0 is the student's name, index 1 is the course name, and index 2 is their grade in the course. The inability to insert or append items to the tuple means that we are certain that, say, the course name won't move around to a different index.\n",
        "\n",
        "## 5.2 Unpacking\n",
        "\n",
        "Tuples' immutability makes them useful for *unpacking*. At its simplest, tuple unpacking allows the following:"
      ]
    },
    {
      "cell_type": "code",
      "execution_count": null,
      "metadata": {
        "id": "db5V467jERA2",
        "outputId": "6385a797-1054-443b-8637-c98ea7061edc"
      },
      "outputs": [
        {
          "name": "stdout",
          "output_type": "stream",
          "text": [
            "Alice\n",
            "Spanish\n",
            "A-\n"
          ]
        }
      ],
      "source": [
        "student_grade = ('Alice', 'Spanish', 'A-')\n",
        "student_name, subject, grade = student_grade\n",
        "\n",
        "print(student_name)\n",
        "print(subject)\n",
        "print(grade)"
      ]
    },
    {
      "cell_type": "markdown",
      "metadata": {
        "id": "h8mTrXObERA3"
      },
      "source": [
        "While occasionally useful on its own, tuple unpacking is most useful when used with loops. Consider the following piece of code, which congratulates students on getting good grades:"
      ]
    },
    {
      "cell_type": "code",
      "execution_count": null,
      "metadata": {
        "id": "YCNtnz1GERA3",
        "outputId": "fa86b58c-bf6f-4fc5-9635-693bc7ac328b"
      },
      "outputs": [
        {
          "name": "stdout",
          "output_type": "stream",
          "text": [
            "Congratulations Alice on getting an A in Spanish\n",
            "Congratulations Dave on getting an A- in Italian\n"
          ]
        }
      ],
      "source": [
        "student_grades = [\n",
        "    ('Alice', 'Spanish', 'A'),\n",
        "    ('Bob', 'French', 'C'),\n",
        "    ('Carol', 'Italian', 'B+'),\n",
        "    ('Dave', 'Italian', 'A-'),\n",
        "]\n",
        "\n",
        "for student_name, subject, grade in student_grades:\n",
        "    if grade.startswith('A'):\n",
        "        print('Congratulations', student_name,\n",
        "              'on getting an', grade,\n",
        "              'in', subject)"
      ]
    },
    {
      "cell_type": "markdown",
      "metadata": {
        "id": "nTdXxTjPERA3"
      },
      "source": [
        "Compare this to the same code using indices:"
      ]
    },
    {
      "cell_type": "code",
      "execution_count": null,
      "metadata": {
        "id": "qezahPFMERA3",
        "outputId": "094cfbdb-89a7-4306-dca6-0d541740cca2"
      },
      "outputs": [
        {
          "name": "stdout",
          "output_type": "stream",
          "text": [
            "Congratulations Alice on getting an A in Spanish\n",
            "Congratulations Dave on getting an A- in Italian\n"
          ]
        }
      ],
      "source": [
        "for student_grade in student_grades:\n",
        "    if student_grade[2].startswith('A'):\n",
        "        print('Congratulations', student_grade[0],\n",
        "              'on getting an', student_grade[2],\n",
        "              'in', student_grade[1])"
      ]
    },
    {
      "cell_type": "markdown",
      "metadata": {
        "id": "rVQIcF6OERA4"
      },
      "source": [
        "Tuple unpacking allows us to easily refer to this structured data by semantic names instead of having to keep the indices straight. The second example, while functionally identical, is more difficult to write and harder still to read."
      ]
    },
    {
      "cell_type": "markdown",
      "metadata": {
        "id": "jHGSOv-6ERA4"
      },
      "source": [
        "# 6. Dictionaries\n",
        "\n",
        "The next type of collection is much different than the previous two, but is among the most powerful tools in Python: the dictionary ([documentation](https://docs.python.org/3/library/stdtypes.html#dict)). The dictionary is an **unordered**, **mutable**, collection of **unique** items. In other languages these are called maps, mappings, hashmaps, hashes, or associative arrays.\n",
        "\n",
        "## 6.1 Unordered\n",
        "\n",
        "By unordered, we mean that dictionary items aren't referred to by their position, or index, in the collection. Instead, dictionary items have *keys*, each of which is associated with a value. Here's a very basic example:"
      ]
    },
    {
      "cell_type": "code",
      "execution_count": null,
      "metadata": {
        "id": "mNQSr9QxERA4"
      },
      "outputs": [],
      "source": [
        "foreign_languages = {\n",
        "    'Alice': 'Spanish',\n",
        "    'Bob': 'French',\n",
        "    'Carol': 'Italian',\n",
        "    'Dave': 'Italian',\n",
        "}"
      ]
    },
    {
      "cell_type": "markdown",
      "metadata": {
        "id": "5ZG7zT7gERA4"
      },
      "source": [
        "Here the student names are the keys and the students' foreign language courses are the values. So to see Carol's foreign language, we use the key -- her name -- instead of an index:"
      ]
    },
    {
      "cell_type": "code",
      "execution_count": null,
      "metadata": {
        "id": "eilbUsjfERA5",
        "outputId": "268d82be-ba36-4e74-98a6-adca7f681150"
      },
      "outputs": [
        {
          "data": {
            "text/plain": [
              "'Italian'"
            ]
          },
          "execution_count": 31,
          "metadata": {},
          "output_type": "execute_result"
        }
      ],
      "source": [
        "foreign_languages['Carol']"
      ]
    },
    {
      "cell_type": "markdown",
      "metadata": {
        "id": "caqphhPoERA5"
      },
      "source": [
        "Trying to get the value for a key that does not exist in the dictionary results in a `KeyError`:"
      ]
    },
    {
      "cell_type": "code",
      "execution_count": null,
      "metadata": {
        "tags": [
          "raises-exception"
        ],
        "id": "qfkck2WZERA5",
        "outputId": "b95a8691-a4d6-423d-cf9b-165ee8c4bbab"
      },
      "outputs": [
        {
          "ename": "KeyError",
          "evalue": "'Zeke'",
          "output_type": "error",
          "traceback": [
            "\u001b[0;31m---------------------------------------------------------------------------\u001b[0m",
            "\u001b[0;31mKeyError\u001b[0m                                  Traceback (most recent call last)",
            "\u001b[0;32m<ipython-input-32-1ff8fc89736a>\u001b[0m in \u001b[0;36m<module>\u001b[0;34m()\u001b[0m\n\u001b[0;32m----> 1\u001b[0;31m \u001b[0mforeign_languages\u001b[0m\u001b[0;34m[\u001b[0m\u001b[0;34m'Zeke'\u001b[0m\u001b[0;34m]\u001b[0m\u001b[0;34m\u001b[0m\u001b[0;34m\u001b[0m\u001b[0m\n\u001b[0m",
            "\u001b[0;31mKeyError\u001b[0m: 'Zeke'"
          ]
        }
      ],
      "source": [
        "foreign_languages['Zeke']"
      ]
    },
    {
      "cell_type": "markdown",
      "metadata": {
        "id": "E07BoolpERA5"
      },
      "source": [
        "We can check if a particular key is in a dictionary with the `in` keyword:"
      ]
    },
    {
      "cell_type": "code",
      "execution_count": null,
      "metadata": {
        "id": "caDbBzvlERA6",
        "outputId": "e5927ed9-37cf-401e-ff1d-d8683d322bbf"
      },
      "outputs": [
        {
          "data": {
            "text/plain": [
              "False"
            ]
          },
          "execution_count": 33,
          "metadata": {},
          "output_type": "execute_result"
        }
      ],
      "source": [
        "'Zeke' in foreign_languages"
      ]
    },
    {
      "cell_type": "code",
      "execution_count": null,
      "metadata": {
        "id": "7iERgw9oERA6",
        "outputId": "5e4ddfba-0aeb-4ca0-bcc9-4af468e1f9a9"
      },
      "outputs": [
        {
          "data": {
            "text/plain": [
              "True"
            ]
          },
          "execution_count": 34,
          "metadata": {},
          "output_type": "execute_result"
        }
      ],
      "source": [
        "'Alice' in foreign_languages"
      ]
    },
    {
      "cell_type": "markdown",
      "metadata": {
        "id": "nSV_ZRlKERA7"
      },
      "source": [
        "Note that keys are case-sensitive:"
      ]
    },
    {
      "cell_type": "code",
      "execution_count": null,
      "metadata": {
        "id": "ZNNhJynIERA7",
        "outputId": "5585b6f2-d257-46b4-bb82-04c6d3b0d3db"
      },
      "outputs": [
        {
          "data": {
            "text/plain": [
              "False"
            ]
          },
          "execution_count": 35,
          "metadata": {},
          "output_type": "execute_result"
        }
      ],
      "source": [
        "'alice' in foreign_languages"
      ]
    },
    {
      "cell_type": "markdown",
      "metadata": {
        "id": "Xq_LMdGOERA7"
      },
      "source": [
        "## 6.2 Mutable\n",
        "\n",
        "We can add, delete, and change entries in a dictionary:"
      ]
    },
    {
      "cell_type": "code",
      "execution_count": null,
      "metadata": {
        "id": "AGx4rfHDERA8",
        "outputId": "9702a773-0b4b-4670-f02e-1372cab23464"
      },
      "outputs": [
        {
          "data": {
            "text/plain": [
              "{'Alice': 'Spanish',\n",
              " 'Bob': 'French',\n",
              " 'Carol': 'Italian',\n",
              " 'Dave': 'Italian',\n",
              " 'Esther': 'French'}"
            ]
          },
          "execution_count": 36,
          "metadata": {},
          "output_type": "execute_result"
        }
      ],
      "source": [
        "# Add an entry that doesn't exist\n",
        "foreign_languages['Esther'] = 'French'\n",
        "foreign_languages"
      ]
    },
    {
      "cell_type": "code",
      "execution_count": null,
      "metadata": {
        "id": "QPI9F2AvERA8",
        "outputId": "7fd62972-120a-4c6e-f9fa-178ee9d2c3c0"
      },
      "outputs": [
        {
          "data": {
            "text/plain": [
              "{'Alice': 'Spanish', 'Carol': 'Italian', 'Dave': 'Italian', 'Esther': 'French'}"
            ]
          },
          "execution_count": 37,
          "metadata": {},
          "output_type": "execute_result"
        }
      ],
      "source": [
        "# Delete an entry that exists\n",
        "del foreign_languages['Bob']\n",
        "foreign_languages"
      ]
    },
    {
      "cell_type": "code",
      "execution_count": null,
      "metadata": {
        "id": "OlWt-T_MERA8",
        "outputId": "5d19c4a3-021e-4d3d-8f2b-2ef0af1ce23b"
      },
      "outputs": [
        {
          "data": {
            "text/plain": [
              "{'Alice': 'Spanish',\n",
              " 'Carol': 'Italian',\n",
              " 'Dave': 'Italian',\n",
              " 'Esther': 'Italian'}"
            ]
          },
          "execution_count": 38,
          "metadata": {},
          "output_type": "execute_result"
        }
      ],
      "source": [
        "# Change an entry that does exist\n",
        "foreign_languages['Esther'] = 'Italian'\n",
        "foreign_languages"
      ]
    },
    {
      "cell_type": "markdown",
      "metadata": {
        "id": "j8mKCTYbERA9"
      },
      "source": [
        "## 6.3 Unique\n",
        "Note that the syntax for adding an entry that does not exist and changing an existing entry are the same. When assigning a value to a key in a dictionary, it adds the key if it doesn't exist, or else updates the value for the key if it does exist. As a consequence, keys are necessarily *unique* -- there can't be more than one element with the same key in a dictionary."
      ]
    },
    {
      "cell_type": "markdown",
      "metadata": {
        "id": "VFOYJa9QERA9"
      },
      "source": [
        "## 6.4 Looping over dictionaries\n",
        "\n",
        "While not performed as often as with lists, it is possible to loop over entries in a dictionary. There are two ways to accomplish this task:"
      ]
    },
    {
      "cell_type": "code",
      "execution_count": null,
      "metadata": {
        "id": "L4-L5uW2ERA9",
        "outputId": "09536e72-fb02-4253-cc94-296a2060e87e"
      },
      "outputs": [
        {
          "name": "stdout",
          "output_type": "stream",
          "text": [
            "Alice is taking Spanish\n",
            "Carol is taking Italian\n",
            "Dave is taking Italian\n",
            "Esther is taking Italian\n"
          ]
        }
      ],
      "source": [
        "for key in foreign_languages:\n",
        "    value = foreign_languages[key]\n",
        "    print(key, 'is taking', value)"
      ]
    },
    {
      "cell_type": "code",
      "execution_count": null,
      "metadata": {
        "id": "Y5zNtxscERA-",
        "outputId": "d2a58123-f6b8-4b87-d7fc-abed85f492ba"
      },
      "outputs": [
        {
          "name": "stdout",
          "output_type": "stream",
          "text": [
            "Alice is taking Spanish\n",
            "Carol is taking Italian\n",
            "Dave is taking Italian\n",
            "Esther is taking Italian\n"
          ]
        }
      ],
      "source": [
        "for key, value in foreign_languages.items():\n",
        "    print(key, 'is taking', value)"
      ]
    },
    {
      "cell_type": "markdown",
      "metadata": {
        "id": "3kI-q_6rERA-"
      },
      "source": [
        "Here I'm using variables named `key` and `value` to show the general principle. When you write loops over dictionaries in your own code, you should use descriptive names as opposed to `key` and `value`."
      ]
    },
    {
      "cell_type": "markdown",
      "metadata": {
        "id": "QhO78n9IERA-"
      },
      "source": [
        "## 6.5 Dictionaries as records\n",
        "\n",
        "In `foreign_languages` we have paired data -- every name is associated with a subject. Dictionaries are also often used to contain several different data about a single entity. To illustrate this subtle difference, let's take a look at one item from `student_grades`:"
      ]
    },
    {
      "cell_type": "code",
      "execution_count": null,
      "metadata": {
        "id": "q0YzB9tEERA-"
      },
      "outputs": [],
      "source": [
        "student_grade = ('Alice', 'Spanish', 'A')"
      ]
    },
    {
      "cell_type": "markdown",
      "metadata": {
        "id": "Q7dzIhVcERA_"
      },
      "source": [
        "Here we know that the items in each of these tuples is a name, subject, and grade:"
      ]
    },
    {
      "cell_type": "code",
      "execution_count": null,
      "metadata": {
        "id": "t-Er5yVrERA_",
        "outputId": "8071ed66-238c-4eb3-d9c0-450951a87e3c"
      },
      "outputs": [
        {
          "name": "stdout",
          "output_type": "stream",
          "text": [
            "Alice got a grade of A in Spanish\n"
          ]
        }
      ],
      "source": [
        "student_name, subject, grade = student_grades[0]\n",
        "print(student_name, 'got a grade of', grade, 'in', subject)"
      ]
    },
    {
      "cell_type": "markdown",
      "metadata": {
        "id": "I6364CSZERA_"
      },
      "source": [
        "We could instead represent this data as a dictionary and use it as such. A dictionary of information describing a single item is often referred to as a *record*:"
      ]
    },
    {
      "cell_type": "code",
      "execution_count": null,
      "metadata": {
        "id": "4w3_6gJfERBA",
        "outputId": "ec2a8d12-1cfd-4523-be21-de9f0638afdd"
      },
      "outputs": [
        {
          "name": "stdout",
          "output_type": "stream",
          "text": [
            "Alice got a grade of A in Spanish\n"
          ]
        }
      ],
      "source": [
        "record = {\n",
        "    'name': 'Alice',\n",
        "    'subject': 'Spanish',\n",
        "    'grade': 'A',\n",
        "}\n",
        "print(record['name'],\n",
        "      'got a grade of', record['grade'],\n",
        "      'in', record['subject'])"
      ]
    },
    {
      "cell_type": "markdown",
      "metadata": {
        "id": "ZK2Xu-_HERBA"
      },
      "source": [
        "While the code is slightly longer, there is absolutely no ambiguity here about matching up indices and what each value represents. This is also useful in contexts where some of the fields might be optional."
      ]
    },
    {
      "cell_type": "markdown",
      "metadata": {
        "id": "ZJvgrUXYERBA"
      },
      "source": [
        "# 7. Combining Data Types\n",
        "\n",
        "In most of these simple examples we've worked with collections of simple values like strings and numbers, however data analysis often involves working with complex data, where each item of interest has several data associated with it. These complex data are often represented as collections of collections, *e.g.,* lists of dictionaries.\n",
        "\n",
        "Choosing the appropriate data types for a given problem will make it easier for you to write bug-free code and will make your code easier for others to read, but identifying the best data types is a skill gained through experience. Some of the commonly-used combination data types are illustrated below, but this is hardly exhaustive.\n",
        "\n",
        "## 7.1 List of tuples\n",
        "\n",
        "We've actually seen this one before. Consider the `student_grades` data from the earlier example on tuple unpacking:"
      ]
    },
    {
      "cell_type": "code",
      "execution_count": null,
      "metadata": {
        "id": "_He0KpueERBA"
      },
      "outputs": [],
      "source": [
        "student_grades = [\n",
        "    ('Alice', 'Spanish', 'A'),\n",
        "    ('Bob', 'French', 'C'),\n",
        "    ('Carol', 'Italian', 'B+'),\n",
        "    ('Dave', 'Italian', 'A-'),\n",
        "]"
      ]
    },
    {
      "cell_type": "markdown",
      "metadata": {
        "id": "tDHecNxEERBB"
      },
      "source": [
        "This is a list of tuples:"
      ]
    },
    {
      "cell_type": "code",
      "execution_count": null,
      "metadata": {
        "id": "OVaJnJ0uERBB",
        "outputId": "3016744f-4151-43d5-f05d-2b0dac685c5e"
      },
      "outputs": [
        {
          "data": {
            "text/plain": [
              "('Bob', 'French', 'C')"
            ]
          },
          "execution_count": 45,
          "metadata": {},
          "output_type": "execute_result"
        }
      ],
      "source": [
        "student_grades[1]"
      ]
    },
    {
      "cell_type": "markdown",
      "metadata": {
        "id": "qrTmBrNwERBB"
      },
      "source": [
        "and we can work with the individual tuples as such:"
      ]
    },
    {
      "cell_type": "code",
      "execution_count": null,
      "metadata": {
        "id": "rBYIuwr3ERBB",
        "outputId": "b738f153-ac15-4eda-d1c3-266d64a16c6d"
      },
      "outputs": [
        {
          "data": {
            "text/plain": [
              "'C'"
            ]
          },
          "execution_count": 46,
          "metadata": {},
          "output_type": "execute_result"
        }
      ],
      "source": [
        "student_grades[1][2]"
      ]
    },
    {
      "cell_type": "markdown",
      "metadata": {
        "id": "lr2Jiy6GERBC"
      },
      "source": [
        "## 7.2 List of dictionaries\n",
        "\n",
        "In the section on dictionaries, we explored how dictionaries are often used to contain several data about a single entity, and each such dictionary is sometimes called a *record*. Let's convert the list of tuples `student_grades` into a list of records `student_grade_records`:"
      ]
    },
    {
      "cell_type": "code",
      "execution_count": null,
      "metadata": {
        "id": "pWP67aj3ERBC",
        "outputId": "ba68a3e4-7de5-4379-ab02-82a647569ac7"
      },
      "outputs": [
        {
          "data": {
            "text/plain": [
              "[{'name': 'Alice', 'subject': 'Spanish', 'grade': 'A'},\n",
              " {'name': 'Bob', 'subject': 'French', 'grade': 'C'},\n",
              " {'name': 'Carol', 'subject': 'Italian', 'grade': 'B+'},\n",
              " {'name': 'Dave', 'subject': 'Italian', 'grade': 'A-'}]"
            ]
          },
          "execution_count": 47,
          "metadata": {},
          "output_type": "execute_result"
        }
      ],
      "source": [
        "student_grade_records = []\n",
        "for student_name, subject, grade in student_grades:\n",
        "    record = {\n",
        "        'name': student_name,\n",
        "        'subject': subject,\n",
        "        'grade': grade,\n",
        "    }\n",
        "    student_grade_records.append(record)\n",
        "\n",
        "student_grade_records"
      ]
    },
    {
      "cell_type": "markdown",
      "metadata": {
        "id": "eBVG65-ZERBC"
      },
      "source": [
        "Now each item in the list is a dictionary:"
      ]
    },
    {
      "cell_type": "code",
      "execution_count": null,
      "metadata": {
        "id": "zYRJcRQaERBC",
        "outputId": "a8d5c636-333f-4803-d315-c9aed2a60a00"
      },
      "outputs": [
        {
          "data": {
            "text/plain": [
              "{'name': 'Bob', 'subject': 'French', 'grade': 'C'}"
            ]
          },
          "execution_count": 48,
          "metadata": {},
          "output_type": "execute_result"
        }
      ],
      "source": [
        "student_grade_records[1]"
      ]
    },
    {
      "cell_type": "markdown",
      "metadata": {
        "id": "AR_s4j7cERBD"
      },
      "source": [
        "and we can work with the individual records as such:"
      ]
    },
    {
      "cell_type": "code",
      "execution_count": null,
      "metadata": {
        "id": "PsC12GnWERBD",
        "outputId": "8f6b30b2-2ee8-4503-c881-afe669375bf6"
      },
      "outputs": [
        {
          "data": {
            "text/plain": [
              "'C'"
            ]
          },
          "execution_count": 49,
          "metadata": {},
          "output_type": "execute_result"
        }
      ],
      "source": [
        "student_grade_records[1]['grade']"
      ]
    },
    {
      "cell_type": "code",
      "source": [
        "import matplotlib.pyplot as plt"
      ],
      "metadata": {
        "id": "5qRtCCKiUM3c"
      },
      "execution_count": null,
      "outputs": []
    },
    {
      "cell_type": "code",
      "execution_count": 118,
      "metadata": {
        "id": "xeSKLRLyERBJ"
      },
      "outputs": [],
      "source": [
        "import networkx as nx\n"
      ]
    },
    {
      "cell_type": "code",
      "source": [],
      "metadata": {
        "id": "cJQIt2RiS9Xe"
      },
      "execution_count": null,
      "outputs": []
    },
    {
      "cell_type": "code",
      "source": [
        "G = nx.Graph()"
      ],
      "metadata": {
        "id": "d1UN7yzBFK2i"
      },
      "execution_count": 121,
      "outputs": []
    },
    {
      "cell_type": "code",
      "source": [
        "G.add_node(1)\n",
        "G.add_node(2)"
      ],
      "metadata": {
        "id": "uABS7IO0T9vW"
      },
      "execution_count": 122,
      "outputs": []
    },
    {
      "cell_type": "code",
      "source": [
        "G.add_edge(1,2)"
      ],
      "metadata": {
        "id": "PL84BwFKUIBL"
      },
      "execution_count": 123,
      "outputs": []
    },
    {
      "cell_type": "code",
      "source": [
        "G.add_nodes_from([3,4,5])\n",
        "G.add_edges_from([(3,4),(3,5)])"
      ],
      "metadata": {
        "id": "85Ovogp3URrF"
      },
      "execution_count": 124,
      "outputs": []
    },
    {
      "cell_type": "code",
      "source": [
        "G.nodes()\n",
        "G.edges()"
      ],
      "metadata": {
        "id": "NjGeKhD5UXZx"
      },
      "execution_count": null,
      "outputs": []
    },
    {
      "cell_type": "code",
      "source": [
        "list(G.neighbors(1))"
      ],
      "metadata": {
        "id": "QerZih7PUZMA"
      },
      "execution_count": null,
      "outputs": []
    },
    {
      "cell_type": "code",
      "source": [
        "for n in G.nodes:\n",
        "  print(n, list(G.neighbors(n)))"
      ],
      "metadata": {
        "colab": {
          "base_uri": "https://localhost:8080/"
        },
        "id": "v0h0_MpjGtig",
        "outputId": "4e542bff-b507-4086-d716-14ecf3d54d4a"
      },
      "execution_count": 125,
      "outputs": [
        {
          "output_type": "stream",
          "name": "stdout",
          "text": [
            "1 [2]\n",
            "2 [1]\n",
            "3 [4, 5]\n",
            "4 [3]\n",
            "5 [3]\n"
          ]
        }
      ]
    },
    {
      "cell_type": "code",
      "source": [
        "for u,v in G.edges:\n",
        "  print(u,v)"
      ],
      "metadata": {
        "colab": {
          "base_uri": "https://localhost:8080/"
        },
        "id": "yHwrIkxDG_h0",
        "outputId": "f46ec4cf-8f9a-4a36-9d21-214487ff679d"
      },
      "execution_count": 126,
      "outputs": [
        {
          "output_type": "stream",
          "name": "stdout",
          "text": [
            "1 2\n",
            "3 4\n",
            "3 5\n"
          ]
        }
      ]
    },
    {
      "cell_type": "code",
      "source": [
        "D = nx.DiGraph()"
      ],
      "metadata": {
        "id": "2PTlYBe9HQgs"
      },
      "execution_count": 127,
      "outputs": []
    },
    {
      "cell_type": "code",
      "source": [
        "D.add_edge(1,2)\n",
        "D.add_edge(2,1)"
      ],
      "metadata": {
        "id": "R_XokgxhHSkC"
      },
      "execution_count": 129,
      "outputs": []
    },
    {
      "cell_type": "code",
      "source": [
        "D.add_edges_from([(2,3),(3,4),(4,3)])"
      ],
      "metadata": {
        "id": "wW_6lsFEHYFj"
      },
      "execution_count": 130,
      "outputs": []
    },
    {
      "cell_type": "code",
      "source": [
        "D.number_of_nodes()"
      ],
      "metadata": {
        "colab": {
          "base_uri": "https://localhost:8080/"
        },
        "id": "W8aIK9HrHdCr",
        "outputId": "81bebc2b-f13e-4bae-e9e0-f9041cfb5501"
      },
      "execution_count": 131,
      "outputs": [
        {
          "output_type": "execute_result",
          "data": {
            "text/plain": [
              "4"
            ]
          },
          "metadata": {},
          "execution_count": 131
        }
      ]
    },
    {
      "cell_type": "code",
      "source": [
        "D. number_of_edges()"
      ],
      "metadata": {
        "colab": {
          "base_uri": "https://localhost:8080/"
        },
        "id": "yArNHKEVH6f2",
        "outputId": "86098711-b94f-4cc1-b9fd-4b6d9efd28ee"
      },
      "execution_count": 132,
      "outputs": [
        {
          "output_type": "execute_result",
          "data": {
            "text/plain": [
              "5"
            ]
          },
          "metadata": {},
          "execution_count": 132
        }
      ]
    },
    {
      "cell_type": "code",
      "source": [
        "list(D.neighbors(1))"
      ],
      "metadata": {
        "colab": {
          "base_uri": "https://localhost:8080/"
        },
        "id": "5qqJHBqcH_l9",
        "outputId": "1c275cbe-fa04-478c-cc55-d74e411e0485"
      },
      "execution_count": 133,
      "outputs": [
        {
          "output_type": "execute_result",
          "data": {
            "text/plain": [
              "[2]"
            ]
          },
          "metadata": {},
          "execution_count": 133
        }
      ]
    },
    {
      "cell_type": "code",
      "source": [
        "list(D.predecessors(1))"
      ],
      "metadata": {
        "colab": {
          "base_uri": "https://localhost:8080/"
        },
        "id": "E5jsQMDiIRUy",
        "outputId": "228af966-26e2-4f39-a6c7-8f6d7d2fa372"
      },
      "execution_count": 134,
      "outputs": [
        {
          "output_type": "execute_result",
          "data": {
            "text/plain": [
              "[2]"
            ]
          },
          "metadata": {},
          "execution_count": 134
        }
      ]
    },
    {
      "cell_type": "code",
      "source": [
        "list(D.successors(1))"
      ],
      "metadata": {
        "colab": {
          "base_uri": "https://localhost:8080/"
        },
        "id": "MxycMWCSIZTE",
        "outputId": "27958f57-b190-47fd-d653-e81cdb349cfd"
      },
      "execution_count": 135,
      "outputs": [
        {
          "output_type": "execute_result",
          "data": {
            "text/plain": [
              "[2]"
            ]
          },
          "metadata": {},
          "execution_count": 135
        }
      ]
    },
    {
      "cell_type": "code",
      "source": [
        "B=nx.complete_bipartite_graph(4,5)"
      ],
      "metadata": {
        "id": "bxDp1vIyIcsQ"
      },
      "execution_count": 138,
      "outputs": []
    },
    {
      "cell_type": "code",
      "source": [],
      "metadata": {
        "id": "xCT0d_--U_To",
        "outputId": "d22005ae-dac6-4b08-ac5e-851de0f4982a",
        "colab": {
          "base_uri": "https://localhost:8080/",
          "height": 516
        }
      },
      "execution_count": 139,
      "outputs": [
        {
          "output_type": "display_data",
          "data": {
            "text/plain": [
              "<Figure size 640x480 with 1 Axes>"
            ],
            "image/png": "[encoded data removed]"
          },
          "metadata": {}
        }
      ]
    },
    {
      "cell_type": "code",
      "source": [
        "C=nx.cycle_grap(4))"
      ],
      "metadata": {
        "id": "4wX7O_H3IkmV"
      },
      "execution_count": 39,
      "outputs": []
    },
    {
      "cell_type": "code",
      "source": [
        "S = nx.star_graph(6)"
      ],
      "metadata": {
        "id": "BDpAt5vWIo08"
      },
      "execution_count": 43,
      "outputs": []
    },
    {
      "cell_type": "code",
      "source": [
        "nx.draw(S)\n",
        "plt.show(S)"
      ],
      "metadata": {
        "colab": {
          "base_uri": "https://localhost:8080/",
          "height": 516
        },
        "id": "NZA2hK3MJRaM",
        "outputId": "8c50b650-7b1f-4897-cfe6-70628b037735"
      },
      "execution_count": 140,
      "outputs": [
        {
          "output_type": "display_data",
          "data": {
            "text/plain": [
              "<Figure size 640x480 with 1 Axes>"
            ],
            "image/png": "[encoded data removed]"
          },
          "metadata": {}
        }
      ]
    },
    {
      "cell_type": "code",
      "source": [
        "P=nx.path_graph(5)"
      ],
      "metadata": {
        "id": "vvlYBsdQKCP9"
      },
      "execution_count": 47,
      "outputs": []
    },
    {
      "cell_type": "code",
      "source": [
        "nx.density(G)"
      ],
      "metadata": {
        "colab": {
          "base_uri": "https://localhost:8080/"
        },
        "id": "jkkoyHaHKTPP",
        "outputId": "400a200c-3c95-43f7-dfc2-6088bf2601c8"
      },
      "execution_count": 48,
      "outputs": [
        {
          "output_type": "execute_result",
          "data": {
            "text/plain": [
              "0.3"
            ]
          },
          "metadata": {},
          "execution_count": 48
        }
      ]
    },
    {
      "cell_type": "code",
      "source": [
        "nx.density(D)"
      ],
      "metadata": {
        "colab": {
          "base_uri": "https://localhost:8080/"
        },
        "id": "2FRi4apcKnFu",
        "outputId": "4dedbb28-256d-4393-e886-cec9c85f8508"
      },
      "execution_count": 49,
      "outputs": [
        {
          "output_type": "execute_result",
          "data": {
            "text/plain": [
              "0.3333333333333333"
            ]
          },
          "metadata": {},
          "execution_count": 49
        }
      ]
    },
    {
      "cell_type": "code",
      "source": [
        "CG=nx.complete_graph(8471)"
      ],
      "metadata": {
        "id": "vgdQ8_3ZKo1j"
      },
      "execution_count": 142,
      "outputs": []
    },
    {
      "cell_type": "code",
      "source": [
        "nx.density(CG)"
      ],
      "metadata": {
        "colab": {
          "base_uri": "https://localhost:8080/"
        },
        "id": "3LU43HXqLZ-g",
        "outputId": "73bb9613-bcb1-4f73-eed0-0a20c194d92b"
      },
      "execution_count": 52,
      "outputs": [
        {
          "output_type": "execute_result",
          "data": {
            "text/plain": [
              "1.0"
            ]
          },
          "metadata": {},
          "execution_count": 52
        }
      ]
    },
    {
      "cell_type": "code",
      "source": [
        "K5=nx.complete_graph(5)\n",
        "clique = nx.subgraph(K5,(0,1,2))"
      ],
      "metadata": {
        "id": "dNUzgXUkLrNj"
      },
      "execution_count": 143,
      "outputs": []
    },
    {
      "cell_type": "code",
      "source": [
        "nx.draw(K5)"
      ],
      "metadata": {
        "id": "5dusiQzAWBQd",
        "outputId": "d3864cb3-b1a9-498b-8b72-287b8ab14092",
        "colab": {
          "base_uri": "https://localhost:8080/",
          "height": 516
        }
      },
      "execution_count": 144,
      "outputs": [
        {
          "output_type": "display_data",
          "data": {
            "text/plain": [
              "<Figure size 640x480 with 1 Axes>"
            ],
            "image/png": "[encoded data removed]"
          },
          "metadata": {}
        }
      ]
    },
    {
      "cell_type": "code",
      "source": [
        "nx.draw(clique)"
      ],
      "metadata": {
        "id": "VLEy4eGSWGCd",
        "outputId": "77a22046-f55d-42ed-8912-9d19d37e1153",
        "colab": {
          "base_uri": "https://localhost:8080/",
          "height": 516
        }
      },
      "execution_count": 145,
      "outputs": [
        {
          "output_type": "display_data",
          "data": {
            "text/plain": [
              "<Figure size 640x480 with 1 Axes>"
            ],
            "image/png": "[encoded data removed]"
          },
          "metadata": {}
        }
      ]
    },
    {
      "cell_type": "code",
      "source": [
        "G.degree(2)"
      ],
      "metadata": {
        "colab": {
          "base_uri": "https://localhost:8080/"
        },
        "id": "_GNlTjdnMJfn",
        "outputId": "3cc3fc19-5c87-4ec7-a97d-7d4aeb832714"
      },
      "execution_count": 146,
      "outputs": [
        {
          "output_type": "execute_result",
          "data": {
            "text/plain": [
              "1"
            ]
          },
          "metadata": {},
          "execution_count": 146
        }
      ]
    },
    {
      "cell_type": "code",
      "source": [
        "G.degree()"
      ],
      "metadata": {
        "id": "qScRptrJWLDq",
        "outputId": "01a3d3a4-443d-44da-b70b-ca2a5a4a2ff3",
        "colab": {
          "base_uri": "https://localhost:8080/"
        }
      },
      "execution_count": 147,
      "outputs": [
        {
          "output_type": "execute_result",
          "data": {
            "text/plain": [
              "DegreeView({1: 1, 2: 1, 3: 2, 4: 1, 5: 1})"
            ]
          },
          "metadata": {},
          "execution_count": 147
        }
      ]
    },
    {
      "cell_type": "code",
      "source": [
        "D.in_degree(2)"
      ],
      "metadata": {
        "colab": {
          "base_uri": "https://localhost:8080/"
        },
        "id": "Y7eAKS4ZMeTZ",
        "outputId": "411a5d5a-a434-4b6b-f78a-8c4ec23ae80a"
      },
      "execution_count": 69,
      "outputs": [
        {
          "output_type": "execute_result",
          "data": {
            "text/plain": [
              "3"
            ]
          },
          "metadata": {},
          "execution_count": 69
        }
      ]
    },
    {
      "cell_type": "code",
      "source": [
        "D.out_degree(2)"
      ],
      "metadata": {
        "id": "YsRVHav_WO6C",
        "outputId": "bd12cd43-a424-4f50-9ec4-988131393a8e",
        "colab": {
          "base_uri": "https://localhost:8080/"
        }
      },
      "execution_count": 148,
      "outputs": [
        {
          "output_type": "execute_result",
          "data": {
            "text/plain": [
              "2"
            ]
          },
          "metadata": {},
          "execution_count": 148
        }
      ]
    },
    {
      "cell_type": "code",
      "source": [
        "D.degree(2)"
      ],
      "metadata": {
        "id": "syx5BL0SWQAp",
        "outputId": "1e060c99-f2c9-47e9-c14f-c6287b8ff8f7",
        "colab": {
          "base_uri": "https://localhost:8080/"
        }
      },
      "execution_count": 149,
      "outputs": [
        {
          "output_type": "execute_result",
          "data": {
            "text/plain": [
              "3"
            ]
          },
          "metadata": {},
          "execution_count": 149
        }
      ]
    },
    {
      "cell_type": "code",
      "source": [
        "W=nx.Graph()"
      ],
      "metadata": {
        "id": "mygLfXz7MvGi"
      },
      "execution_count": 150,
      "outputs": []
    },
    {
      "cell_type": "code",
      "source": [
        "W.add_edge(1,2,weight=6)"
      ],
      "metadata": {
        "id": "d7BdMUHBNCjf"
      },
      "execution_count": 151,
      "outputs": []
    },
    {
      "cell_type": "code",
      "source": [
        "W.add_weighted_edges_from([(2,3,3),(2,4,5)])"
      ],
      "metadata": {
        "id": "zQQVKS0lNGMB"
      },
      "execution_count": 152,
      "outputs": []
    },
    {
      "cell_type": "code",
      "source": [
        "for (i,j,w) in W.edges(data='weight'):\n",
        "  if w>3:\n",
        "    print('(%d,%d,%d)'% (i,j,w))"
      ],
      "metadata": {
        "colab": {
          "base_uri": "https://localhost:8080/"
        },
        "id": "U4uqHBIaNVZB",
        "outputId": "5aff52d5-4067-41f5-9a71-3c98b5472fc3"
      },
      "execution_count": 154,
      "outputs": [
        {
          "output_type": "stream",
          "name": "stdout",
          "text": [
            "(1,2,6)\n",
            "(2,4,5)\n"
          ]
        }
      ]
    },
    {
      "cell_type": "code",
      "source": [
        "W.degree(2,weight='weight')"
      ],
      "metadata": {
        "colab": {
          "base_uri": "https://localhost:8080/"
        },
        "id": "TbFSJBExOBHz",
        "outputId": "ba0a70ec-ea99-4cc5-8d06-9d581c6322f9"
      },
      "execution_count": 80,
      "outputs": [
        {
          "output_type": "execute_result",
          "data": {
            "text/plain": [
              "14"
            ]
          },
          "metadata": {},
          "execution_count": 80
        }
      ]
    },
    {
      "cell_type": "code",
      "source": [
        "print(nx.adjacency_matrix(G))"
      ],
      "metadata": {
        "colab": {
          "base_uri": "https://localhost:8080/"
        },
        "id": "uvVT44M-OFto",
        "outputId": "39163cfd-8c0f-4ca6-8389-1a57ae8b5bf0"
      },
      "execution_count": 157,
      "outputs": [
        {
          "output_type": "stream",
          "name": "stdout",
          "text": [
            "<Compressed Sparse Row sparse array of dtype 'int64'\n",
            "\twith 6 stored elements and shape (5, 5)>\n",
            "  Coords\tValues\n",
            "  (0, 1)\t1\n",
            "  (1, 0)\t1\n",
            "  (2, 3)\t1\n",
            "  (2, 4)\t1\n",
            "  (3, 2)\t1\n",
            "  (4, 2)\t1\n"
          ]
        }
      ]
    },
    {
      "cell_type": "code",
      "source": [
        "G.edges[3,4]['color']='blue'"
      ],
      "metadata": {
        "id": "rYzCLe6JO5VT"
      },
      "execution_count": 156,
      "outputs": []
    },
    {
      "cell_type": "code",
      "source": [
        "print(nx.adjacency_matrix(D))"
      ],
      "metadata": {
        "colab": {
          "base_uri": "https://localhost:8080/"
        },
        "id": "QiI3X5R2QJkD",
        "outputId": "e5d9e686-a74e-4c03-be5f-3c1b323620f6"
      },
      "execution_count": 90,
      "outputs": [
        {
          "output_type": "stream",
          "name": "stdout",
          "text": [
            "<Compressed Sparse Row sparse array of dtype 'int64'\n",
            "\twith 4 stored elements and shape (4, 4)>\n",
            "  Coords\tValues\n",
            "  (0, 1)\t1\n",
            "  (1, 0)\t1\n",
            "  (1, 2)\t1\n",
            "  (2, 3)\t1\n"
          ]
        }
      ]
    },
    {
      "cell_type": "code",
      "source": [
        "D.edges[3,4]\n",
        "D.edges[4,3]"
      ],
      "metadata": {
        "colab": {
          "base_uri": "https://localhost:8080/"
        },
        "id": "R-mVdScFQRg0",
        "outputId": "2c4e04ce-b1e1-48cd-9fd3-5cce66352e9a"
      },
      "execution_count": 94,
      "outputs": [
        {
          "output_type": "execute_result",
          "data": {
            "text/plain": [
              "{}"
            ]
          },
          "metadata": {},
          "execution_count": 94
        }
      ]
    },
    {
      "cell_type": "code",
      "source": [
        "print(nx.adjacency_matrix(W))"
      ],
      "metadata": {
        "colab": {
          "base_uri": "https://localhost:8080/"
        },
        "id": "P6NtboZfQu0Z",
        "outputId": "37e49dc7-e21f-4d35-e545-c2eac5a0264b"
      },
      "execution_count": 95,
      "outputs": [
        {
          "output_type": "stream",
          "name": "stdout",
          "text": [
            "<Compressed Sparse Row sparse array of dtype 'int64'\n",
            "\twith 6 stored elements and shape (4, 4)>\n",
            "  Coords\tValues\n",
            "  (0, 1)\t6\n",
            "  (1, 0)\t6\n",
            "  (1, 2)\t3\n",
            "  (1, 3)\t5\n",
            "  (2, 1)\t3\n",
            "  (3, 1)\t5\n"
          ]
        }
      ]
    },
    {
      "cell_type": "code",
      "source": [
        "W.edges[2,3]\n",
        "W.edges[2,3]['weight']=2"
      ],
      "metadata": {
        "id": "H3A9uXNPQxwL"
      },
      "execution_count": 160,
      "outputs": []
    },
    {
      "cell_type": "code",
      "source": [
        "for n, neighbors in G.adjacency():\n",
        "  for number, link_attributes in neighbors.items():\n",
        "    print('(%d,%d)'%(n,number))"
      ],
      "metadata": {
        "colab": {
          "base_uri": "https://localhost:8080/"
        },
        "id": "HZbYAMo9Q_u1",
        "outputId": "9c7ce305-184c-42c5-b6e9-19ff09eaf046"
      },
      "execution_count": 100,
      "outputs": [
        {
          "output_type": "stream",
          "name": "stdout",
          "text": [
            "(1,2)\n",
            "(2,1)\n",
            "(3,4)\n",
            "(3,5)\n",
            "(4,3)\n",
            "(5,3)\n"
          ]
        }
      ]
    },
    {
      "cell_type": "code",
      "source": [
        "nx.write_edgelist(G,\"file.edges\")"
      ],
      "metadata": {
        "id": "ILE1yEzrROd_"
      },
      "execution_count": 101,
      "outputs": []
    },
    {
      "cell_type": "code",
      "source": [
        "G2=nx.read_edgelist(\"file.edges\")"
      ],
      "metadata": {
        "id": "tt4YysyuRVYc"
      },
      "execution_count": 102,
      "outputs": []
    },
    {
      "cell_type": "code",
      "source": [
        "nx.write_weighted_edgelist(W, \"wf.edges\")"
      ],
      "metadata": {
        "id": "8NVtRhgNRYnZ"
      },
      "execution_count": 103,
      "outputs": []
    },
    {
      "cell_type": "code",
      "source": [
        "with open(\"wf.edges\")as f:\n",
        "  for line in f:\n",
        "    print(line)"
      ],
      "metadata": {
        "colab": {
          "base_uri": "https://localhost:8080/"
        },
        "id": "mEqyOsniRceB",
        "outputId": "b0c29898-0f66-4bbe-b5e5-e713e00c55e6"
      },
      "execution_count": 104,
      "outputs": [
        {
          "output_type": "stream",
          "name": "stdout",
          "text": [
            "1 2 6\n",
            "\n",
            "2 3 2\n",
            "\n",
            "2 4 5\n",
            "\n"
          ]
        }
      ]
    },
    {
      "cell_type": "code",
      "source": [
        "W2 = nx.read_weighted_edgelist(\"wf.edges\")"
      ],
      "metadata": {
        "id": "a9cj7n5qRh7f"
      },
      "execution_count": 105,
      "outputs": []
    },
    {
      "cell_type": "code",
      "source": [
        "import matplotlib.pyplot as plt"
      ],
      "metadata": {
        "id": "mm80ueAER10H"
      },
      "execution_count": 106,
      "outputs": []
    },
    {
      "cell_type": "code",
      "source": [
        "nx.draw (D)"
      ],
      "metadata": {
        "colab": {
          "base_uri": "https://localhost:8080/",
          "height": 516
        },
        "id": "mRSWtbVfR5Mn",
        "outputId": "2dd9353f-59ce-4d38-d328-eab4c97648dd"
      },
      "execution_count": 166,
      "outputs": [
        {
          "output_type": "display_data",
          "data": {
            "text/plain": [
              "<Figure size 640x480 with 1 Axes>"
            ],
            "image/png": "[encoded data removed]"
          },
          "metadata": {}
        }
      ]
    },
    {
      "cell_type": "code",
      "source": [
        "plt.show()"
      ],
      "metadata": {
        "id": "acZ0tqIXR8di"
      },
      "execution_count": 111,
      "outputs": []
    }
  ],
  "metadata": {
    "kernelspec": {
      "display_name": "Python 3",
      "language": "python",
      "name": "python3"
    },
    "language_info": {
      "codemirror_mode": {
        "name": "ipython",
        "version": 3
      },
      "file_extension": ".py",
      "mimetype": "text/x-python",
      "name": "python",
      "nbconvert_exporter": "python",
      "pygments_lexer": "ipython3",
      "version": "3.6.8"
    },
    "colab": {
      "provenance": [],
      "include_colab_link": true
    }
  },
  "nbformat": 4,
  "nbformat_minor": 0
}